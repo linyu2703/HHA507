{
 "cells": [
  {
   "cell_type": "code",
   "execution_count": 10,
   "id": "ad63d5a9-6f4e-4e2e-929e-33ed5e47cae8",
   "metadata": {},
   "outputs": [],
   "source": [
    "import pandas as pd\n",
    "import numpy as np"
   ]
  },
  {
   "cell_type": "code",
   "execution_count": 27,
   "id": "9594f558-b440-408d-a0ff-b226a9495c8e",
   "metadata": {},
   "outputs": [
    {
     "name": "stderr",
     "output_type": "stream",
     "text": [
      "/var/folders/5l/1g8r881x7wqbwppkcdsk_0p40000gn/T/ipykernel_6578/2125833074.py:1: DtypeWarning: Columns (168,169,170,171,172,173,174,175,176,177,178,179,180,181,182,183,184,185,186,187,188,189) have mixed types. Specify dtype option on import or set low_memory=False.\n",
      "  df = pd.read_csv('inpatient.csv', delimiter='|')\n"
     ]
    }
   ],
   "source": [
    "df = pd.read_csv('inpatient.csv', delimiter='|')"
   ]
  },
  {
   "cell_type": "code",
   "execution_count": null,
   "id": "1c2b499a",
   "metadata": {},
   "outputs": [
    {
     "ename": "KeyError",
     "evalue": "'ICD_CODE'",
     "output_type": "error",
     "traceback": [
      "\u001b[31m---------------------------------------------------------------------------\u001b[39m",
      "\u001b[31mKeyError\u001b[39m                                  Traceback (most recent call last)",
      "\u001b[36mFile \u001b[39m\u001b[32m/Library/Frameworks/Python.framework/Versions/3.13/lib/python3.13/site-packages/pandas/core/indexes/base.py:3812\u001b[39m, in \u001b[36mIndex.get_loc\u001b[39m\u001b[34m(self, key)\u001b[39m\n\u001b[32m   3811\u001b[39m \u001b[38;5;28;01mtry\u001b[39;00m:\n\u001b[32m-> \u001b[39m\u001b[32m3812\u001b[39m     \u001b[38;5;28;01mreturn\u001b[39;00m \u001b[38;5;28;43mself\u001b[39;49m\u001b[43m.\u001b[49m\u001b[43m_engine\u001b[49m\u001b[43m.\u001b[49m\u001b[43mget_loc\u001b[49m\u001b[43m(\u001b[49m\u001b[43mcasted_key\u001b[49m\u001b[43m)\u001b[49m\n\u001b[32m   3813\u001b[39m \u001b[38;5;28;01mexcept\u001b[39;00m \u001b[38;5;167;01mKeyError\u001b[39;00m \u001b[38;5;28;01mas\u001b[39;00m err:\n",
      "\u001b[36mFile \u001b[39m\u001b[32mpandas/_libs/index.pyx:167\u001b[39m, in \u001b[36mpandas._libs.index.IndexEngine.get_loc\u001b[39m\u001b[34m()\u001b[39m\n",
      "\u001b[36mFile \u001b[39m\u001b[32mpandas/_libs/index.pyx:196\u001b[39m, in \u001b[36mpandas._libs.index.IndexEngine.get_loc\u001b[39m\u001b[34m()\u001b[39m\n",
      "\u001b[36mFile \u001b[39m\u001b[32mpandas/_libs/hashtable_class_helper.pxi:7088\u001b[39m, in \u001b[36mpandas._libs.hashtable.PyObjectHashTable.get_item\u001b[39m\u001b[34m()\u001b[39m\n",
      "\u001b[36mFile \u001b[39m\u001b[32mpandas/_libs/hashtable_class_helper.pxi:7096\u001b[39m, in \u001b[36mpandas._libs.hashtable.PyObjectHashTable.get_item\u001b[39m\u001b[34m()\u001b[39m\n",
      "\u001b[31mKeyError\u001b[39m: 'ICD_CODE'",
      "\nThe above exception was the direct cause of the following exception:\n",
      "\u001b[31mKeyError\u001b[39m                                  Traceback (most recent call last)",
      "\u001b[36mCell\u001b[39m\u001b[36m \u001b[39m\u001b[32mIn[52]\u001b[39m\u001b[32m, line 1\u001b[39m\n\u001b[32m----> \u001b[39m\u001b[32m1\u001b[39m icd_codes = \u001b[43mdf\u001b[49m\u001b[43m[\u001b[49m\u001b[33;43m'\u001b[39;49m\u001b[33;43mICD_CODE\u001b[39;49m\u001b[33;43m'\u001b[39;49m\u001b[43m]\u001b[49m\n\u001b[32m      2\u001b[39m drg_codes = df[\u001b[33m'\u001b[39m\u001b[33mDRG_CODE\u001b[39m\u001b[33m'\u001b[39m]\n\u001b[32m      3\u001b[39m hcpcs_codes = df[\u001b[33m'\u001b[39m\u001b[33mHCPCS_CODE\u001b[39m\u001b[33m'\u001b[39m]\n",
      "\u001b[36mFile \u001b[39m\u001b[32m/Library/Frameworks/Python.framework/Versions/3.13/lib/python3.13/site-packages/pandas/core/frame.py:4107\u001b[39m, in \u001b[36mDataFrame.__getitem__\u001b[39m\u001b[34m(self, key)\u001b[39m\n\u001b[32m   4105\u001b[39m \u001b[38;5;28;01mif\u001b[39;00m \u001b[38;5;28mself\u001b[39m.columns.nlevels > \u001b[32m1\u001b[39m:\n\u001b[32m   4106\u001b[39m     \u001b[38;5;28;01mreturn\u001b[39;00m \u001b[38;5;28mself\u001b[39m._getitem_multilevel(key)\n\u001b[32m-> \u001b[39m\u001b[32m4107\u001b[39m indexer = \u001b[38;5;28;43mself\u001b[39;49m\u001b[43m.\u001b[49m\u001b[43mcolumns\u001b[49m\u001b[43m.\u001b[49m\u001b[43mget_loc\u001b[49m\u001b[43m(\u001b[49m\u001b[43mkey\u001b[49m\u001b[43m)\u001b[49m\n\u001b[32m   4108\u001b[39m \u001b[38;5;28;01mif\u001b[39;00m is_integer(indexer):\n\u001b[32m   4109\u001b[39m     indexer = [indexer]\n",
      "\u001b[36mFile \u001b[39m\u001b[32m/Library/Frameworks/Python.framework/Versions/3.13/lib/python3.13/site-packages/pandas/core/indexes/base.py:3819\u001b[39m, in \u001b[36mIndex.get_loc\u001b[39m\u001b[34m(self, key)\u001b[39m\n\u001b[32m   3814\u001b[39m     \u001b[38;5;28;01mif\u001b[39;00m \u001b[38;5;28misinstance\u001b[39m(casted_key, \u001b[38;5;28mslice\u001b[39m) \u001b[38;5;129;01mor\u001b[39;00m (\n\u001b[32m   3815\u001b[39m         \u001b[38;5;28misinstance\u001b[39m(casted_key, abc.Iterable)\n\u001b[32m   3816\u001b[39m         \u001b[38;5;129;01mand\u001b[39;00m \u001b[38;5;28many\u001b[39m(\u001b[38;5;28misinstance\u001b[39m(x, \u001b[38;5;28mslice\u001b[39m) \u001b[38;5;28;01mfor\u001b[39;00m x \u001b[38;5;129;01min\u001b[39;00m casted_key)\n\u001b[32m   3817\u001b[39m     ):\n\u001b[32m   3818\u001b[39m         \u001b[38;5;28;01mraise\u001b[39;00m InvalidIndexError(key)\n\u001b[32m-> \u001b[39m\u001b[32m3819\u001b[39m     \u001b[38;5;28;01mraise\u001b[39;00m \u001b[38;5;167;01mKeyError\u001b[39;00m(key) \u001b[38;5;28;01mfrom\u001b[39;00m\u001b[38;5;250m \u001b[39m\u001b[34;01merr\u001b[39;00m\n\u001b[32m   3820\u001b[39m \u001b[38;5;28;01mexcept\u001b[39;00m \u001b[38;5;167;01mTypeError\u001b[39;00m:\n\u001b[32m   3821\u001b[39m     \u001b[38;5;66;03m# If we have a listlike key, _check_indexing_error will raise\u001b[39;00m\n\u001b[32m   3822\u001b[39m     \u001b[38;5;66;03m#  InvalidIndexError. Otherwise we fall through and re-raise\u001b[39;00m\n\u001b[32m   3823\u001b[39m     \u001b[38;5;66;03m#  the TypeError.\u001b[39;00m\n\u001b[32m   3824\u001b[39m     \u001b[38;5;28mself\u001b[39m._check_indexing_error(key)\n",
      "\u001b[31mKeyError\u001b[39m: 'ICD_CODE'"
     ]
    }
   ],
   "source": [
    "icd_codes = df['ICD_CODE']\n",
    "drg_codes = df['DRG_CODE']\n",
    "hcpcs_codes = df['HCPCS_CD']"
   ]
  },
  {
   "cell_type": "code",
   "execution_count": 12,
   "id": "cb7f55ef-9357-477f-bcf2-ad78aa293eea",
   "metadata": {},
   "outputs": [
    {
     "name": "stdout",
     "output_type": "stream",
     "text": [
      "Index(['BENE_ID|CLM_ID|NCH_NEAR_LINE_REC_IDENT_CD|NCH_CLM_TYPE_CD|CLM_FROM_DT|CLM_THRU_DT|NCH_WKLY_PROC_DT|FI_CLM_PROC_DT|CLAIM_QUERY_CODE|PRVDR_NUM|CLM_FAC_TYPE_CD|CLM_SRVC_CLSFCTN_TYPE_CD|CLM_FREQ_CD|FI_NUM|CLM_MDCR_NON_PMT_RSN_CD|CLM_PMT_AMT|NCH_PRMRY_PYR_CLM_PD_AMT|NCH_PRMRY_PYR_CD|FI_CLM_ACTN_CD|PRVDR_STATE_CD|ORG_NPI_NUM|AT_PHYSN_UPIN|AT_PHYSN_NPI|OP_PHYSN_UPIN|OP_PHYSN_NPI|OT_PHYSN_UPIN|OT_PHYSN_NPI|CLM_MCO_PD_SW|PTNT_DSCHRG_STUS_CD|CLM_PPS_IND_CD|CLM_TOT_CHRG_AMT|CLM_ADMSN_DT|CLM_IP_ADMSN_TYPE_CD|CLM_SRC_IP_ADMSN_CD|NCH_PTNT_STATUS_IND_CD|CLM_PASS_THRU_PER_DIEM_AMT|NCH_BENE_IP_DDCTBL_AMT|NCH_BENE_PTA_COINSRNC_LBLTY_AM|NCH_BENE_BLOOD_DDCTBL_LBLTY_AM|NCH_PROFNL_CMPNT_CHRG_AMT|NCH_IP_NCVRD_CHRG_AMT|NCH_IP_TOT_DDCTN_AMT|CLM_TOT_PPS_CPTL_AMT|CLM_PPS_CPTL_FSP_AMT|CLM_PPS_CPTL_OUTLIER_AMT|CLM_PPS_CPTL_DSPRPRTNT_SHR_AMT|CLM_PPS_CPTL_IME_AMT|CLM_PPS_CPTL_EXCPTN_AMT|CLM_PPS_OLD_CPTL_HLD_HRMLS_AMT|CLM_PPS_CPTL_DRG_WT_NUM|CLM_UTLZTN_DAY_CNT|BENE_TOT_COINSRNC_DAYS_CNT|BENE_LRD_USED_CNT|CLM_NON_UTLZTN_DAYS_CNT|NCH_BLOOD_PNTS_FRNSHD_QTY|NCH_VRFD_NCVRD_STAY_FROM_DT|NCH_VRFD_NCVRD_STAY_THRU_DT|NCH_ACTV_OR_CVRD_LVL_CARE_THRU|NCH_BENE_MDCR_BNFTS_EXHTD_DT_I|NCH_BENE_DSCHRG_DT|CLM_DRG_CD|CLM_DRG_OUTLIER_STAY_CD|NCH_DRG_OUTLIER_APRVD_PMT_AMT|ADMTG_DGNS_CD|PRNCPAL_DGNS_CD|ICD_DGNS_CD1|CLM_POA_IND_SW1|ICD_DGNS_CD2|CLM_POA_IND_SW2|ICD_DGNS_CD3|CLM_POA_IND_SW3|ICD_DGNS_CD4|CLM_POA_IND_SW4|ICD_DGNS_CD5|CLM_POA_IND_SW5|ICD_DGNS_CD6|CLM_POA_IND_SW6|ICD_DGNS_CD7|CLM_POA_IND_SW7|ICD_DGNS_CD8|CLM_POA_IND_SW8|ICD_DGNS_CD9|CLM_POA_IND_SW9|ICD_DGNS_CD10|CLM_POA_IND_SW10|ICD_DGNS_CD11|CLM_POA_IND_SW11|ICD_DGNS_CD12|CLM_POA_IND_SW12|ICD_DGNS_CD13|CLM_POA_IND_SW13|ICD_DGNS_CD14|CLM_POA_IND_SW14|ICD_DGNS_CD15|CLM_POA_IND_SW15|ICD_DGNS_CD16|CLM_POA_IND_SW16|ICD_DGNS_CD17|CLM_POA_IND_SW17|ICD_DGNS_CD18|CLM_POA_IND_SW18|ICD_DGNS_CD19|CLM_POA_IND_SW19|ICD_DGNS_CD20|CLM_POA_IND_SW20|ICD_DGNS_CD21|CLM_POA_IND_SW21|ICD_DGNS_CD22|CLM_POA_IND_SW22|ICD_DGNS_CD23|CLM_POA_IND_SW23|ICD_DGNS_CD24|CLM_POA_IND_SW24|ICD_DGNS_CD25|CLM_POA_IND_SW25|FST_DGNS_E_CD|ICD_DGNS_E_CD1|CLM_E_POA_IND_SW1|ICD_DGNS_E_CD2|CLM_E_POA_IND_SW2|ICD_DGNS_E_CD3|CLM_E_POA_IND_SW3|ICD_DGNS_E_CD4|CLM_E_POA_IND_SW4|ICD_DGNS_E_CD5|CLM_E_POA_IND_SW5|ICD_DGNS_E_CD6|CLM_E_POA_IND_SW6|ICD_DGNS_E_CD7|CLM_E_POA_IND_SW7|ICD_DGNS_E_CD8|CLM_E_POA_IND_SW8|ICD_DGNS_E_CD9|CLM_E_POA_IND_SW9|ICD_DGNS_E_CD10|CLM_E_POA_IND_SW10|ICD_DGNS_E_CD11|CLM_E_POA_IND_SW11|ICD_DGNS_E_CD12|CLM_E_POA_IND_SW12|ICD_PRCDR_CD1|PRCDR_DT1|ICD_PRCDR_CD2|PRCDR_DT2|ICD_PRCDR_CD3|PRCDR_DT3|ICD_PRCDR_CD4|PRCDR_DT4|ICD_PRCDR_CD5|PRCDR_DT5|ICD_PRCDR_CD6|PRCDR_DT6|ICD_PRCDR_CD7|PRCDR_DT7|ICD_PRCDR_CD8|PRCDR_DT8|ICD_PRCDR_CD9|PRCDR_DT9|ICD_PRCDR_CD10|PRCDR_DT10|ICD_PRCDR_CD11|PRCDR_DT11|ICD_PRCDR_CD12|PRCDR_DT12|ICD_PRCDR_CD13|PRCDR_DT13|ICD_PRCDR_CD14|PRCDR_DT14|ICD_PRCDR_CD15|PRCDR_DT15|ICD_PRCDR_CD16|PRCDR_DT16|ICD_PRCDR_CD17|PRCDR_DT17|ICD_PRCDR_CD18|PRCDR_DT18|ICD_PRCDR_CD19|PRCDR_DT19|ICD_PRCDR_CD20|PRCDR_DT20|ICD_PRCDR_CD21|PRCDR_DT21|ICD_PRCDR_CD22|PRCDR_DT22|ICD_PRCDR_CD23|PRCDR_DT23|ICD_PRCDR_CD24|PRCDR_DT24|ICD_PRCDR_CD25|PRCDR_DT25|IME_OP_CLM_VAL_AMT|DSH_OP_CLM_VAL_AMT|CLM_UNCOMPD_CARE_PMT_AMT|CLM_LINE_NUM|REV_CNTR|HCPCS_CD|REV_CNTR_DDCTBL_COINSRNC_CD'], dtype='object')\n"
     ]
    }
   ],
   "source": [
    "print(df.columns)"
   ]
  },
  {
   "cell_type": "code",
   "execution_count": 28,
   "id": "3a2239f8-db9c-4fe4-92a7-1996f3da2482",
   "metadata": {},
   "outputs": [
    {
     "name": "stdout",
     "output_type": "stream",
     "text": [
      "['BENE_ID', 'CLM_ID', 'NCH_NEAR_LINE_REC_IDENT_CD', 'NCH_CLM_TYPE_CD', 'CLM_FROM_DT', 'CLM_THRU_DT', 'NCH_WKLY_PROC_DT', 'FI_CLM_PROC_DT', 'CLAIM_QUERY_CODE', 'PRVDR_NUM', 'CLM_FAC_TYPE_CD', 'CLM_SRVC_CLSFCTN_TYPE_CD', 'CLM_FREQ_CD', 'FI_NUM', 'CLM_MDCR_NON_PMT_RSN_CD', 'CLM_PMT_AMT', 'NCH_PRMRY_PYR_CLM_PD_AMT', 'NCH_PRMRY_PYR_CD', 'FI_CLM_ACTN_CD', 'PRVDR_STATE_CD', 'ORG_NPI_NUM', 'AT_PHYSN_UPIN', 'AT_PHYSN_NPI', 'OP_PHYSN_UPIN', 'OP_PHYSN_NPI', 'OT_PHYSN_UPIN', 'OT_PHYSN_NPI', 'CLM_MCO_PD_SW', 'PTNT_DSCHRG_STUS_CD', 'CLM_PPS_IND_CD', 'CLM_TOT_CHRG_AMT', 'CLM_ADMSN_DT', 'CLM_IP_ADMSN_TYPE_CD', 'CLM_SRC_IP_ADMSN_CD', 'NCH_PTNT_STATUS_IND_CD', 'CLM_PASS_THRU_PER_DIEM_AMT', 'NCH_BENE_IP_DDCTBL_AMT', 'NCH_BENE_PTA_COINSRNC_LBLTY_AM', 'NCH_BENE_BLOOD_DDCTBL_LBLTY_AM', 'NCH_PROFNL_CMPNT_CHRG_AMT', 'NCH_IP_NCVRD_CHRG_AMT', 'NCH_IP_TOT_DDCTN_AMT', 'CLM_TOT_PPS_CPTL_AMT', 'CLM_PPS_CPTL_FSP_AMT', 'CLM_PPS_CPTL_OUTLIER_AMT', 'CLM_PPS_CPTL_DSPRPRTNT_SHR_AMT', 'CLM_PPS_CPTL_IME_AMT', 'CLM_PPS_CPTL_EXCPTN_AMT', 'CLM_PPS_OLD_CPTL_HLD_HRMLS_AMT', 'CLM_PPS_CPTL_DRG_WT_NUM', 'CLM_UTLZTN_DAY_CNT', 'BENE_TOT_COINSRNC_DAYS_CNT', 'BENE_LRD_USED_CNT', 'CLM_NON_UTLZTN_DAYS_CNT', 'NCH_BLOOD_PNTS_FRNSHD_QTY', 'NCH_VRFD_NCVRD_STAY_FROM_DT', 'NCH_VRFD_NCVRD_STAY_THRU_DT', 'NCH_ACTV_OR_CVRD_LVL_CARE_THRU', 'NCH_BENE_MDCR_BNFTS_EXHTD_DT_I', 'NCH_BENE_DSCHRG_DT', 'CLM_DRG_CD', 'CLM_DRG_OUTLIER_STAY_CD', 'NCH_DRG_OUTLIER_APRVD_PMT_AMT', 'ADMTG_DGNS_CD', 'PRNCPAL_DGNS_CD', 'ICD_DGNS_CD1', 'CLM_POA_IND_SW1', 'ICD_DGNS_CD2', 'CLM_POA_IND_SW2', 'ICD_DGNS_CD3', 'CLM_POA_IND_SW3', 'ICD_DGNS_CD4', 'CLM_POA_IND_SW4', 'ICD_DGNS_CD5', 'CLM_POA_IND_SW5', 'ICD_DGNS_CD6', 'CLM_POA_IND_SW6', 'ICD_DGNS_CD7', 'CLM_POA_IND_SW7', 'ICD_DGNS_CD8', 'CLM_POA_IND_SW8', 'ICD_DGNS_CD9', 'CLM_POA_IND_SW9', 'ICD_DGNS_CD10', 'CLM_POA_IND_SW10', 'ICD_DGNS_CD11', 'CLM_POA_IND_SW11', 'ICD_DGNS_CD12', 'CLM_POA_IND_SW12', 'ICD_DGNS_CD13', 'CLM_POA_IND_SW13', 'ICD_DGNS_CD14', 'CLM_POA_IND_SW14', 'ICD_DGNS_CD15', 'CLM_POA_IND_SW15', 'ICD_DGNS_CD16', 'CLM_POA_IND_SW16', 'ICD_DGNS_CD17', 'CLM_POA_IND_SW17', 'ICD_DGNS_CD18', 'CLM_POA_IND_SW18', 'ICD_DGNS_CD19', 'CLM_POA_IND_SW19', 'ICD_DGNS_CD20', 'CLM_POA_IND_SW20', 'ICD_DGNS_CD21', 'CLM_POA_IND_SW21', 'ICD_DGNS_CD22', 'CLM_POA_IND_SW22', 'ICD_DGNS_CD23', 'CLM_POA_IND_SW23', 'ICD_DGNS_CD24', 'CLM_POA_IND_SW24', 'ICD_DGNS_CD25', 'CLM_POA_IND_SW25', 'FST_DGNS_E_CD', 'ICD_DGNS_E_CD1', 'CLM_E_POA_IND_SW1', 'ICD_DGNS_E_CD2', 'CLM_E_POA_IND_SW2', 'ICD_DGNS_E_CD3', 'CLM_E_POA_IND_SW3', 'ICD_DGNS_E_CD4', 'CLM_E_POA_IND_SW4', 'ICD_DGNS_E_CD5', 'CLM_E_POA_IND_SW5', 'ICD_DGNS_E_CD6', 'CLM_E_POA_IND_SW6', 'ICD_DGNS_E_CD7', 'CLM_E_POA_IND_SW7', 'ICD_DGNS_E_CD8', 'CLM_E_POA_IND_SW8', 'ICD_DGNS_E_CD9', 'CLM_E_POA_IND_SW9', 'ICD_DGNS_E_CD10', 'CLM_E_POA_IND_SW10', 'ICD_DGNS_E_CD11', 'CLM_E_POA_IND_SW11', 'ICD_DGNS_E_CD12', 'CLM_E_POA_IND_SW12', 'ICD_PRCDR_CD1', 'PRCDR_DT1', 'ICD_PRCDR_CD2', 'PRCDR_DT2', 'ICD_PRCDR_CD3', 'PRCDR_DT3', 'ICD_PRCDR_CD4', 'PRCDR_DT4', 'ICD_PRCDR_CD5', 'PRCDR_DT5', 'ICD_PRCDR_CD6', 'PRCDR_DT6', 'ICD_PRCDR_CD7', 'PRCDR_DT7', 'ICD_PRCDR_CD8', 'PRCDR_DT8', 'ICD_PRCDR_CD9', 'PRCDR_DT9', 'ICD_PRCDR_CD10', 'PRCDR_DT10', 'ICD_PRCDR_CD11', 'PRCDR_DT11', 'ICD_PRCDR_CD12', 'PRCDR_DT12', 'ICD_PRCDR_CD13', 'PRCDR_DT13', 'ICD_PRCDR_CD14', 'PRCDR_DT14', 'ICD_PRCDR_CD15', 'PRCDR_DT15', 'ICD_PRCDR_CD16', 'PRCDR_DT16', 'ICD_PRCDR_CD17', 'PRCDR_DT17', 'ICD_PRCDR_CD18', 'PRCDR_DT18', 'ICD_PRCDR_CD19', 'PRCDR_DT19', 'ICD_PRCDR_CD20', 'PRCDR_DT20', 'ICD_PRCDR_CD21', 'PRCDR_DT21', 'ICD_PRCDR_CD22', 'PRCDR_DT22', 'ICD_PRCDR_CD23', 'PRCDR_DT23', 'ICD_PRCDR_CD24', 'PRCDR_DT24', 'ICD_PRCDR_CD25', 'PRCDR_DT25', 'IME_OP_CLM_VAL_AMT', 'DSH_OP_CLM_VAL_AMT', 'CLM_UNCOMPD_CARE_PMT_AMT', 'CLM_LINE_NUM', 'REV_CNTR', 'HCPCS_CD', 'REV_CNTR_DDCTBL_COINSRNC_CD']\n"
     ]
    }
   ],
   "source": [
    "print(df.columns.tolist())"
   ]
  },
  {
   "cell_type": "code",
   "execution_count": 39,
   "id": "47b8ae8b",
   "metadata": {},
   "outputs": [
    {
     "name": "stdout",
     "output_type": "stream",
     "text": [
      "0        S134XX\n",
      "1        T7432X\n",
      "2        T7432X\n",
      "3        S8290X\n",
      "4        S8290X\n",
      "          ...  \n",
      "58061    T7432X\n",
      "58062      Z733\n",
      "58063      Z608\n",
      "58064      Z608\n",
      "58065    S93409\n",
      "Name: ICD_DGNS_CD1, Length: 58066, dtype: object\n"
     ]
    }
   ],
   "source": [
    "print(df['ICD_DGNS_CD1'])"
   ]
  },
  {
   "cell_type": "code",
   "execution_count": 46,
   "id": "9d8d5a09",
   "metadata": {},
   "outputs": [],
   "source": [
    "frequencies = {col: df[col].value_counts(dropna=False) for col in df.columns}"
   ]
  },
  {
   "cell_type": "code",
   "execution_count": 50,
   "id": "8ee61549",
   "metadata": {},
   "outputs": [
    {
     "name": "stdout",
     "output_type": "stream",
     "text": [
      "[13031  8227  3727  3537  2858  2500  1365  1131   970   915   914   897\n",
      "   659   576   561   539   503   496   427   420   411   398   355   317\n",
      "   292   280   278   275   268   253   241   235   231   227   225   222\n",
      "   217   203   201   192   187   183   176   175   165   159   151   146\n",
      "   142   141   136   134   126   124   122   121   116   114   111   107\n",
      "   106   105   103    98    93    91    90    87    84    77    76    73\n",
      "    70    67    66    60    59    58    56    55    54    52    51    50\n",
      "    49    45    44    41    40    39    37    36    35    34    33    30\n",
      "    29    28    27    25    24    22    21    20    19    18    16    15\n",
      "    14    13    12    11    10     9     8     7     6     5     4     3\n",
      "     2     1]\n"
     ]
    }
   ],
   "source": [
    "print(frequencies['ICD_DGNS_CD1'].unique())\n"
   ]
  }
 ],
 "metadata": {
  "kernelspec": {
   "display_name": "Python 3",
   "language": "python",
   "name": "python3"
  },
  "language_info": {
   "codemirror_mode": {
    "name": "ipython",
    "version": 3
   },
   "file_extension": ".py",
   "mimetype": "text/x-python",
   "name": "python",
   "nbconvert_exporter": "python",
   "pygments_lexer": "ipython3",
   "version": "3.13.7"
  }
 },
 "nbformat": 4,
 "nbformat_minor": 5
}
